{
 "cells": [
  {
   "cell_type": "markdown",
   "metadata": {},
   "source": [
    "### **Importing Libraries**"
   ]
  },
  {
   "cell_type": "code",
   "execution_count": 1,
   "metadata": {},
   "outputs": [],
   "source": [
    "import os\n",
    "import shutil\n",
    "import random\n",
    "import glob"
   ]
  },
  {
   "cell_type": "markdown",
   "metadata": {},
   "source": [
    "### **Data Preperation**"
   ]
  },
  {
   "cell_type": "code",
   "execution_count": 2,
   "metadata": {},
   "outputs": [
    {
     "name": "stderr",
     "output_type": "stream",
     "text": [
      "Copying files: 1274 files [00:03, 418.70 files/s]\n"
     ]
    }
   ],
   "source": [
    "import splitfolders\n",
    "splitfolders.ratio('data_init', output=\"data\", seed=1337, ratio=(.7, 0.25,0.05))"
   ]
  },
  {
   "cell_type": "code",
   "execution_count": null,
   "metadata": {},
   "outputs": [],
   "source": [
    "os.chdir(r'g:\\IBM-Bootcamp\\Model\\data')\n",
    "if os.path.isdir('train/normal') is False:\n",
    "    os.makedirs('train/normal')\n",
    "    os.makedirs('test/normal')\n",
    "    os.makedirs('valid/normal')\n",
    "    os.makedirs('train/catract')\n",
    "    os.makedirs('test/catract')\n",
    "    os.makedirs('valid/catract')\n",
    "    \n",
    "\n",
    "    for c in random.choice(glob.glob('NL_*'), 100):\n",
    "        shutil.move(c, 'train/normal')\n",
    "    for c in random.choice(glob.glob('NL_*'), 50):\n",
    "        shutil.move(c, 'valid/normal')\n",
    "    for c in random.choice(glob.glob('NL_*'), 30):\n",
    "        shutil.move(c, 'test/normal')    \n",
    "    for c in random.choice(glob.glob('cataract_*'), 100):\n",
    "        shutil.move(c, 'train/catract')\n",
    "    for c in random.choice(glob.glob('cataract_*'), 50):\n",
    "        shutil.move(c, 'valid/catract')\n",
    "    for c in random.choice(glob.glob('cataract_*'), 30):\n",
    "        shutil.move(c, 'test/catract')    \n",
    "    \n",
    "os.chdir('../../')"
   ]
  },
  {
   "cell_type": "code",
   "execution_count": null,
   "metadata": {},
   "outputs": [],
   "source": [
    "src = r'g:\\IBM-Bootcamp\\Model\\data'\n",
    "train = 'data/train'\n",
    "test = 'class/test'\n",
    "\n",
    "for file in os.listdir(src):\n",
    "    train_path = os.path.join(train,file)\n",
    "    test_path = os.path.join(test,file)\n",
    "    os.mkdir(train_path)\n",
    "    os.mkdir(test_path)\n",
    "    images = os.listdir(os.path.join(src,file))\n",
    "    for img in images:\n",
    "        src_path = os.path.join(src,file,img)\n",
    "        i=0\n",
    "        for i in range(len(images)):\n",
    "            shutil.copy(src_path, train_path)\n",
    "            i+=1\n",
    "            print(images)\n",
    "            if i > len(images)//2:\n",
    "                print('break')\n",
    "                break\n",
    "        for i in range(len(images)//2):\n",
    "            shutil.copy(src_path, test_path)"
   ]
  },
  {
   "cell_type": "code",
   "execution_count": 41,
   "metadata": {},
   "outputs": [
    {
     "name": "stdout",
     "output_type": "stream",
     "text": [
      "100\n",
      "101\n",
      "300\n",
      "100\n"
     ]
    }
   ],
   "source": [
    "init_path = r'/Volumes/T7/IBM-Bootcamp/Model/data_init'\n",
    "train = 'data/train'\n",
    "test = 'data/test'\n",
    "valid = 'data/valid'\n",
    "folders = os.listdir(init_path)\n",
    "data_dirs = [train, test, valid]\n",
    "\n",
    "folder_size = {}\n",
    "for folder in folders:\n",
    "    count = len(os.listdir(os.path.join(init_path,folder)))\n",
    "    folder_size[folder] = count\n",
    "    print(folder_size[folder])\n",
    "\n"
   ]
  }
 ],
 "metadata": {
  "interpreter": {
   "hash": "aee8b7b246df8f9039afb4144a1f6fd8d2ca17a180786b69acc140d282b71a49"
  },
  "kernelspec": {
   "display_name": "Python 3.9.5 64-bit",
   "language": "python",
   "name": "python3"
  },
  "language_info": {
   "codemirror_mode": {
    "name": "ipython",
    "version": 3
   },
   "file_extension": ".py",
   "mimetype": "text/x-python",
   "name": "python",
   "nbconvert_exporter": "python",
   "pygments_lexer": "ipython3",
   "version": "3.9.5"
  },
  "orig_nbformat": 4
 },
 "nbformat": 4,
 "nbformat_minor": 2
}
